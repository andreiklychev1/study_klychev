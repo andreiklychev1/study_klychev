{
 "cells": [
  {
   "cell_type": "code",
   "execution_count": 1,
   "metadata": {},
   "outputs": [],
   "source": [
    "import pandas as pd\n",
    "from scipy.stats import t\n",
    "from scipy import stats\n",
    "\n",
    "import seaborn as sns\n",
    "import matplotlib\n",
    "matplotlib.rcParams['figure.figsize'] = [10, 7]\n",
    "from matplotlib import pyplot as plt"
   ]
  },
  {
   "cell_type": "code",
   "execution_count": 2,
   "metadata": {},
   "outputs": [],
   "source": [
    "payments_CG1 = pd.read_excel(r'C:\\Users\\Андрей Клычев\\Desktop\\Младший аналитик\\Data\\payments_CG1.xlsx')\n",
    "payments_CG2 = pd.read_excel(r'C:\\Users\\Андрей Клычев\\Desktop\\Младший аналитик\\Data\\payments_CG2.xlsx')\n",
    "payments_TG = pd.read_excel(r'C:\\Users\\Андрей Клычев\\Desktop\\Младший аналитик\\Data\\payments_TG.xlsx')\n",
    "portrait_CG1 = pd.read_excel(r'C:\\Users\\Андрей Клычев\\Desktop\\Младший аналитик\\Data\\portrait_CG1.xlsx')\n",
    "portrait_CG2 = pd.read_excel(r'C:\\Users\\Андрей Клычев\\Desktop\\Младший аналитик\\Data\\portrait_CG2.xlsx')\n",
    "portrait_TG = pd.read_excel(r'C:\\Users\\Андрей Клычев\\Desktop\\Младший аналитик\\Data\\portrait_TG.xlsx')"
   ]
  },
  {
   "cell_type": "markdown",
   "metadata": {},
   "source": [
    "#### Для начала проведем замену отсутствующих значений на нули"
   ]
  },
  {
   "cell_type": "code",
   "execution_count": 336,
   "metadata": {},
   "outputs": [],
   "source": [
    "portrait_CG1.coins = portrait_CG1.coins.fillna(0)\n",
    "portrait_CG2.coins = portrait_CG2.coins.fillna(0)\n",
    "portrait_TG.coins = portrait_TG.coins.fillna(0)"
   ]
  },
  {
   "cell_type": "code",
   "execution_count": 337,
   "metadata": {},
   "outputs": [],
   "source": [
    "portrait_CG1.retention_days = portrait_CG1.retention_days.fillna(0)\n",
    "portrait_CG2.retention_days = portrait_CG2.retention_days.fillna(0)\n",
    "portrait_TG.retention_days = portrait_TG.retention_days.fillna(0)"
   ]
  },
  {
   "cell_type": "code",
   "execution_count": 338,
   "metadata": {},
   "outputs": [],
   "source": [
    "portrait_CG1.was_special = portrait_CG1.was_special.fillna(0)\n",
    "portrait_CG2.was_special = portrait_CG2.was_special.fillna(0)\n",
    "portrait_TG.was_special = portrait_TG.was_special.fillna(0)\n",
    "\n",
    "portrait_CG1.is_special = portrait_CG1.is_special.fillna(0)\n",
    "portrait_CG2.is_special = portrait_CG2.is_special.fillna(0)\n",
    "portrait_TG.is_special = portrait_TG.is_special.fillna(0)\n"
   ]
  },
  {
   "cell_type": "code",
   "execution_count": 344,
   "metadata": {},
   "outputs": [],
   "source": [
    "# Отфильтруем выбросы, хоть возраст можно выбрать любой, и выбор возраста в 100 лет, это скорее следствие\n",
    "# поспешного нажатитя кнопки при регистрации, тем не менее это может помешать при кластеризации пользователей\n",
    "\n",
    "portrait_CG1 = portrait_CG1.loc[(portrait_CG1.coins <3500) & (portrait_CG1.age < 80)].reset_index(drop=True)\n",
    "portrait_CG2 = portrait_CG2.loc[(portrait_CG2.coins <3500) & (portrait_CG2.age < 80)].reset_index(drop=True)\n",
    "portrait_TG = portrait_TG.loc[(portrait_TG.coins <3500) & (portrait_TG.age < 80)].reset_index(drop=True)"
   ]
  },
  {
   "cell_type": "code",
   "execution_count": 342,
   "metadata": {},
   "outputs": [],
   "source": []
  },
  {
   "cell_type": "code",
   "execution_count": 345,
   "metadata": {},
   "outputs": [
    {
     "name": "stdout",
     "output_type": "stream",
     "text": [
      "2016-12-14 16:16:00 2017-11-15 09:28:00\n",
      "2017-10-14 02:57:00 2017-11-15 02:15:00\n",
      "2017-10-14 04:23:00 2017-11-15 09:31:00\n"
     ]
    }
   ],
   "source": [
    "# По срокам платежей 2 контрольная группа больше схжа с тестовой\n",
    "print(payments_CG1.payment_date.min(), payments_CG1.payment_date.max())\n",
    "print(payments_CG2.payment_date.min(), payments_CG2.payment_date.max())\n",
    "print(payments_TG.payment_date.min(), payments_TG.payment_date.max())"
   ]
  },
  {
   "cell_type": "markdown",
   "metadata": {},
   "source": [
    "##### Сперва проверим выборки на принадлежность к единой генеральной совокупности"
   ]
  },
  {
   "cell_type": "code",
   "execution_count": 324,
   "metadata": {},
   "outputs": [
    {
     "name": "stdout",
     "output_type": "stream",
     "text": [
      "   Variable       N       Mean        SD        SE  95% Conf.   Interval\n",
      "0       age  4329.0  31.961192  9.818118  0.149223  31.668639  32.253745\n",
      "1       age  4259.0  31.974172  9.955504  0.152549  31.675097  32.273248\n",
      "2  combined  8588.0  31.967629  9.885916  0.106677  31.758517  32.176742\n",
      "\n",
      "          Independent t-test    results\n",
      "0  Difference (age - age) =     -0.0130\n",
      "1      Degrees of freedom =   8586.0000\n",
      "2                       t =     -0.0608\n",
      "3   Two side test p value =      0.9515\n",
      "4  Difference < 0 p value =      0.4757\n",
      "5  Difference > 0 p value =      0.5243\n",
      "6               Cohen's d =     -0.0013\n",
      "7               Hedge's g =     -0.0013\n",
      "8           Glass's delta =     -0.0013\n",
      "9                       r =      0.0007\n"
     ]
    }
   ],
   "source": [
    "import researchpy as rp\n",
    "descriptives, results = rp.ttest(portrait_CG1.age, portrait_CG2.age)\n",
    "print(descriptives)\n",
    "print()\n",
    "print(results)"
   ]
  },
  {
   "cell_type": "code",
   "execution_count": 4,
   "metadata": {},
   "outputs": [
    {
     "name": "stdout",
     "output_type": "stream",
     "text": [
      "   Variable       N      Mean        SD        SE  95% Conf.  Interval\n",
      "0       sex  4340.0  0.958065  0.200465  0.003043   0.952099  0.964030\n",
      "1       sex  4308.0  0.953110  0.211427  0.003221   0.946795  0.959426\n",
      "2  combined  8648.0  0.955597  0.206001  0.002215   0.951254  0.959939\n",
      "\n",
      "          Independent t-test    results\n",
      "0  Difference (sex - sex) =      0.0050\n",
      "1      Degrees of freedom =   8646.0000\n",
      "2                       t =      1.1182\n",
      "3   Two side test p value =      0.2635\n",
      "4  Difference < 0 p value =      0.8682\n",
      "5  Difference > 0 p value =      0.1318\n",
      "6               Cohen's d =      0.0240\n",
      "7               Hedge's g =      0.0240\n",
      "8           Glass's delta =      0.0247\n",
      "9                       r =      0.0120\n"
     ]
    }
   ],
   "source": [
    "descriptives, results = rp.ttest(portrait_CG1.sex, portrait_TG.sex)\n",
    "print(descriptives)\n",
    "print()\n",
    "print(results)"
   ]
  },
  {
   "cell_type": "code",
   "execution_count": 334,
   "metadata": {},
   "outputs": [
    {
     "name": "stdout",
     "output_type": "stream",
     "text": [
      "     Variable       N      Mean        SD        SE  95% Conf.  Interval\n",
      "0  is_special  4259.0  0.044611  0.206473  0.003164   0.038409  0.050814\n",
      "1  is_special  4329.0  0.043659  0.204359  0.003106   0.037570  0.049748\n",
      "2    combined  8588.0  0.044131  0.205399  0.002216   0.039787  0.048476\n",
      "\n",
      "                        Independent t-test    results\n",
      "0  Difference (is_special - is_special) =      0.0010\n",
      "1                    Degrees of freedom =   8586.0000\n",
      "2                                     t =      0.2148\n",
      "3                 Two side test p value =      0.8299\n",
      "4                Difference < 0 p value =      0.5850\n",
      "5                Difference > 0 p value =      0.4150\n",
      "6                             Cohen's d =      0.0046\n",
      "7                             Hedge's g =      0.0046\n",
      "8                         Glass's delta =      0.0046\n",
      "9                                     r =      0.0023\n"
     ]
    }
   ],
   "source": [
    "descriptives, results = rp.ttest(portrait_CG2.is_special, portrait_CG1.is_special)\n",
    "print(descriptives)\n",
    "print()\n",
    "print(results)"
   ]
  },
  {
   "cell_type": "markdown",
   "metadata": {},
   "source": [
    "##### Значения t-критерия не превышают значения 1,96 (значение для дов. интервала 95% при df>120) по основным метрикам\n",
    "##### На основе этого полагаем, что портреты пользователей в контроьных группах в среднем похожи"
   ]
  },
  {
   "cell_type": "code",
   "execution_count": 356,
   "metadata": {},
   "outputs": [
    {
     "name": "stdout",
     "output_type": "stream",
     "text": [
      "     Variable       N       Mean          SD        SE  95% Conf.   Interval\n",
      "0  view_count  4298.0  47.424383  252.501984  3.851515  39.873426  54.975341\n",
      "1  view_count  4259.0  45.051186  318.365897  4.878347  35.487082  54.615289\n",
      "2    combined  8557.0  46.243193  287.163915  3.104339  40.157940  52.328446\n",
      "\n",
      "                        Independent t-test    results\n",
      "0  Difference (view_count - view_count) =      2.3732\n",
      "1                    Degrees of freedom =   8555.0000\n",
      "2                                     t =      0.3822\n",
      "3                 Two side test p value =      0.7023\n",
      "4                Difference < 0 p value =      0.6488\n",
      "5                Difference > 0 p value =      0.3512\n",
      "6                             Cohen's d =      0.0083\n",
      "7                             Hedge's g =      0.0083\n",
      "8                         Glass's delta =      0.0094\n",
      "9                                     r =      0.0041\n"
     ]
    }
   ],
   "source": [
    "descriptives, results = rp.ttest(portrait_TG.view_count, portrait_CG2.view_count)\n",
    "print(descriptives)\n",
    "print()\n",
    "print(results)"
   ]
  },
  {
   "cell_type": "code",
   "execution_count": 357,
   "metadata": {},
   "outputs": [
    {
     "name": "stdout",
     "output_type": "stream",
     "text": [
      "   Variable       N      Mean        SD        SE  95% Conf.  Interval\n",
      "0       sex  4259.0  0.954449  0.208533  0.003195   0.948185  0.960714\n",
      "1       sex  4298.0  0.953234  0.211162  0.003221   0.946919  0.959549\n",
      "2  combined  8557.0  0.953839  0.209846  0.002269   0.949392  0.958286\n",
      "\n",
      "          Independent t-test    results\n",
      "0  Difference (sex - sex) =      0.0012\n",
      "1      Degrees of freedom =   8555.0000\n",
      "2                       t =      0.2679\n",
      "3   Two side test p value =      0.7888\n",
      "4  Difference < 0 p value =      0.6056\n",
      "5  Difference > 0 p value =      0.3944\n",
      "6               Cohen's d =      0.0058\n",
      "7               Hedge's g =      0.0058\n",
      "8           Glass's delta =      0.0058\n",
      "9                       r =      0.0029\n"
     ]
    }
   ],
   "source": [
    "descriptives, results = rp.ttest(portrait_CG2.sex, portrait_TG.sex)\n",
    "print(descriptives)\n",
    "print()\n",
    "print(results)"
   ]
  },
  {
   "cell_type": "code",
   "execution_count": 358,
   "metadata": {},
   "outputs": [
    {
     "name": "stdout",
     "output_type": "stream",
     "text": [
      "     Variable       N      Mean        SD        SE  95% Conf.  Interval\n",
      "0  is_special  4259.0  0.044611  0.206473  0.003164   0.038409  0.050814\n",
      "1  is_special  4298.0  0.036063  0.186469  0.002844   0.030487  0.041640\n",
      "2    combined  8557.0  0.040318  0.196715  0.002127   0.036149  0.044486\n",
      "\n",
      "                        Independent t-test    results\n",
      "0  Difference (is_special - is_special) =      0.0085\n",
      "1                    Degrees of freedom =   8555.0000\n",
      "2                                     t =      2.0102\n",
      "3                 Two side test p value =      0.0444\n",
      "4                Difference < 0 p value =      0.9778\n",
      "5                Difference > 0 p value =      0.0222\n",
      "6                             Cohen's d =      0.0435\n",
      "7                             Hedge's g =      0.0435\n",
      "8                         Glass's delta =      0.0414\n",
      "9                                     r =      0.0217\n"
     ]
    }
   ],
   "source": [
    "descriptives, results = rp.ttest(portrait_CG2.is_special, portrait_TG.is_special)\n",
    "print(descriptives)\n",
    "print()\n",
    "print(results)"
   ]
  },
  {
   "cell_type": "markdown",
   "metadata": {},
   "source": [
    "##### Ключевой показатель - наличие платной подписки, т-критерий Стьюденты превышает значение в 1,96\n",
    "##### Ко всему прочему заметно ниже среднее количество платных подписок в тестовой группе\n",
    "##### Предполагаем, что между выборками есть различия"
   ]
  },
  {
   "cell_type": "code",
   "execution_count": 23,
   "metadata": {},
   "outputs": [],
   "source": [
    "def ff(row1, row2):\n",
    "    count_was = 0\n",
    "    count_stay = 0\n",
    "    count_left = 0\n",
    "    count_become = 0\n",
    "    try:\n",
    "        for el in range(len(row1)):\n",
    "            if row1[el] == row2[el] == 0:\n",
    "                count_was += 1\n",
    "\n",
    "            elif row1[el] == row2[el] == 1:\n",
    "                count_stay += 1\n",
    "\n",
    "            elif row1[el] == 1 and row2[el] == 0:     \n",
    "                count_left += 1\n",
    "\n",
    "            elif row1[el] == 0 and row2[el] == 1:\n",
    "                count_become += 1\n",
    "    except:\n",
    "        raise\n",
    "    return (count_was, count_become, count_left, count_stay)\n",
    "\n",
    "TG = ff(portrait_TG.was_special, portrait_TG.is_special)\n",
    "C1 = ff(portrait_CG1.was_special, portrait_CG1.is_special)\n",
    "C2 = ff(portrait_CG2.was_special, portrait_CG2.is_special)"
   ]
  },
  {
   "cell_type": "code",
   "execution_count": 40,
   "metadata": {},
   "outputs": [
    {
     "name": "stdout",
     "output_type": "stream",
     "text": [
      "Кол-во человек в тестовой группе, до и и после не имевших премиум-аккаунт: 3892, 0.91%\n",
      "Кол-во человек в тестовой группе, до и после сохранивших премиум-аккаунт: 0, 0.00%\n",
      "Кол-во человек в тестовой группе, отказавшихся от премиум-аккаунта: 251, 0.06%\n",
      "Кол-во человек в тестовой группе, приобретших премиум-аккаунт: 155, 0.04%\n",
      "Всего: 4298\n",
      "\n",
      "Кол-во человек в контрольной группе № 1, до и и после не имевших премиум-аккаунт: 3896, 0.90%\n",
      "Кол-во человек в контрольной группе № 1, до и после сохранивших премиум-аккаунт: 0, 0.00%\n",
      "Кол-во человек в контрольной группе № 1, отказавшихся от премиум-аккаунта: 244, 0.06%\n",
      "Кол-во человек в контрольной группе № 1, приобретших премиум-аккаунт: 189, 0.04%\n",
      "Всего: 4329\n",
      "\n",
      "Кол-во человек в контрольной группе № 2, до и и после не имевших премиум-аккаунт: 3849, 0.90%\n",
      "Кол-во человек в контрольной группе № 2, до и после сохранивших премиум-аккаунт: 0, 0.00%\n",
      "Кол-во человек в контрольной группе № 2, отказавшихся от премиум-аккаунта: 220, 0.05%\n",
      "Кол-во человек в контрольной группе № 2, приобретших премиум-аккаунт: 190, 0.04%\n",
      "Всего: 4259\n"
     ]
    }
   ],
   "source": [
    "print(f'Кол-во человек в тестовой группе, до и и после не имевших премиум-аккаунт: {TG[0]}, {TG[0]/sum(TG):.2f}%')\n",
    "print(f'Кол-во человек в тестовой группе, до и после сохранивших премиум-аккаунт: {TG[1]}, {TG[1]/sum(TG):.2f}%')\n",
    "print(f'Кол-во человек в тестовой группе, отказавшихся от премиум-аккаунта: {TG[2]}, {TG[2]/sum(TG):.2f}%')\n",
    "print(f'Кол-во человек в тестовой группе, приобретших премиум-аккаунт: {TG[3]}, {TG[3]/sum(TG):.2f}%')\n",
    "print(f'Всего: {sum(TG)}')\n",
    "print()\n",
    "print(f'Кол-во человек в контрольной группе № 1, до и и после не имевших премиум-аккаунт: {C1[0]}, {C1[0]/sum(C1):.2f}%')\n",
    "print(f'Кол-во человек в контрольной группе № 1, до и после сохранивших премиум-аккаунт: {C1[1]}, {C1[1]/sum(C1):.2f}%')\n",
    "print(f'Кол-во человек в контрольной группе № 1, отказавшихся от премиум-аккаунта: {C1[2]}, {C1[2]/sum(C1):.2f}%')\n",
    "print(f'Кол-во человек в контрольной группе № 1, приобретших премиум-аккаунт: {C1[3]}, {C1[3]/sum(C1):.2f}%')\n",
    "print(f'Всего: {sum(C1)}')\n",
    "print()\n",
    "print(f'Кол-во человек в контрольной группе № 2, до и и после не имевших премиум-аккаунт: {C2[0]}, {C2[0]/sum(C2):.2f}%')\n",
    "print(f'Кол-во человек в контрольной группе № 2, до и после сохранивших премиум-аккаунт: {C2[1]}, {C2[1]/sum(C2):.2f}%')\n",
    "print(f'Кол-во человек в контрольной группе № 2, отказавшихся от премиум-аккаунта: {C2[2]}, {C2[2]/sum(C2):.2f}%')\n",
    "print(f'Кол-во человек в контрольной группе № 2, приобретших премиум-аккаунт: {C2[3]}, {C2[3]/sum(C2):.2f}%')\n",
    "print(f'Всего: {sum(C2)}')"
   ]
  },
  {
   "cell_type": "markdown",
   "metadata": {},
   "source": [
    "##### Значительных расхождений не наблюдается, возможно, стоит разбить группы пользователей на кластеры, и определить изменения внутри них"
   ]
  },
  {
   "cell_type": "code",
   "execution_count": 371,
   "metadata": {},
   "outputs": [],
   "source": [
    "premium_TG = portrait_TG.loc[(portrait_TG['was_special'] != 0) | (portrait_TG['is_special'] != 0)]\n",
    "premium_CG1 = portrait_CG1.loc[(portrait_CG1['was_special'] != 0) | (portrait_CG1['is_special'] != 0)]\n",
    "premium_CG2 = portrait_CG2.loc[(portrait_CG2['was_special'] != 0) | (portrait_CG2['is_special'] != 0)]"
   ]
  },
  {
   "cell_type": "markdown",
   "metadata": {},
   "source": [
    "##### Узнаем отличается ли источник премиума для тестовой и контрольной групп"
   ]
  },
  {
   "cell_type": "code",
   "execution_count": 351,
   "metadata": {},
   "outputs": [],
   "source": [
    "from sklearn.preprocessing import LabelEncoder\n",
    "label = LabelEncoder()\n",
    "country = label.fit_transform(merge_CG1.country_x)\n",
    "place = label.fit_transform(merge_CG1.place)\n",
    "product_type = label.fit_transform(merge_CG1.product_type)\n",
    "\n",
    "country2 = label.fit_transform(merge_CG2.country_x)\n",
    "place2 = label.fit_transform(merge_CG2.place)\n",
    "product_type2 = label.fit_transform(merge_CG2.product_type)\n",
    "\n",
    "country3 = label.fit_transform(merge_TG.country_x)\n",
    "place3 = label.fit_transform(merge_TG.place)\n",
    "product_type3 = label.fit_transform(merge_TG.product_type)\n",
    "\n",
    "merge_CG1.product_type = product_type \n",
    "merge_CG1.place = place\n",
    "merge_CG1.country_x = country\n",
    "\n",
    "merge_CG2.product_type = product_type2 \n",
    "merge_CG2.place = place2\n",
    "merge_CG2.country_x = country2\n",
    "\n",
    "merge_TG.product_type = product_type3 \n",
    "merge_TG.place = place3\n",
    "merge_TG.country_x = country3\n",
    "\n"
   ]
  },
  {
   "cell_type": "code",
   "execution_count": 372,
   "metadata": {},
   "outputs": [],
   "source": [
    "# , lsuffix='y_', rsuffix='x_'\n",
    "merge_CG1 = premium_CG1.merge(payments_CG1, on='user_id')\n",
    "merge_CG2 = premium_CG2.merge(payments_CG2, on='user_id')\n",
    "merge_TG = premium_TG.merge(payments_TG, on='user_id')\n",
    "\n",
    "merge_CG1 = merge_CG1.drop(['retention_days', 'country_y', 'user_id', \\\n",
    "                            'registration_date', 'payment_date' ], axis=1).reset_index(drop=True)\n",
    "merge_CG2 = merge_CG2.drop(['retention_days', 'country_y', 'user_id',\\\n",
    "                            'registration_date', 'payment_date' ], axis=1).reset_index(drop=True)\n",
    "merge_TG = merge_TG.drop(['retention_days', 'country_y', 'user_id',\\\n",
    "                          'registration_date', 'payment_date' ], axis=1).reset_index(drop=True)"
   ]
  },
  {
   "cell_type": "code",
   "execution_count": 405,
   "metadata": {},
   "outputs": [
    {
     "name": "stdout",
     "output_type": "stream",
     "text": [
      "Контрольная группа 1\n",
      "coins, 110, 34.59%\n",
      "other, 37, 11.64%\n",
      "prem, 104, 32.70%\n",
      "trial, 67, 21.07%\n",
      "Всего: 318\n",
      "\n",
      "Контрольная группа 2\n",
      "coins, 113, 35.60%\n",
      "other, 37, 11.97%\n",
      "prem, 106, 33.66%\n",
      "trial, 53, 21.68%\n",
      "Всего: 309\n",
      "\n",
      "Тестовая группа\n",
      "coins, 94, 36.72%\n",
      "other, 28, 10.94%\n",
      "prem, 73, 28.52%\n",
      "trial, 61, 23.83%\n",
      "Всего: 256\n"
     ]
    }
   ],
   "source": [
    "c1 = merge_CG1.groupby('product_type').count()['age'].T\n",
    "c2 = merge_CG2.groupby('product_type').count()['age'].T\n",
    "tg = merge_TG.groupby('product_type').count()['age'].T\n",
    "\n",
    "print('Контрольная группа 1')\n",
    "print(f'{c1.index[0]}, {c1[0]}, {c1[0]/sum(c1.values):.2%}')\n",
    "print(f'{c1.index[1]}, {c1[1]}, {c1[1]/sum(c1.values):.2%}')\n",
    "print(f'{c1.index[2]}, {c1[2]}, {c1[2]/sum(c1.values):.2%}')\n",
    "print(f'{c1.index[3]}, {c1[3]}, {c1[3]/sum(c1.values):.2%}')\n",
    "print(f'Всего: {sum(c1.values)}')\n",
    "print()\n",
    "print('Контрольная группа 2')\n",
    "print(f'{c2.index[0]}, {c2[0]}, {c1[0]/sum(c2.values):.2%}')\n",
    "print(f'{c2.index[1]}, {c2[1]}, {c1[1]/sum(c2.values):.2%}')\n",
    "print(f'{c2.index[2]}, {c2[2]}, {c1[2]/sum(c2.values):.2%}')\n",
    "print(f'{c2.index[3]}, {c2[3]}, {c1[3]/sum(c2.values):.2%}')\n",
    "print(f'Всего: {sum(c2.values)}')\n",
    "print()\n",
    "print('Тестовая группа')\n",
    "print(f'{tg.index[0]}, {tg[0]}, {tg[0]/sum(tg.values):.2%}')\n",
    "print(f'{tg.index[1]}, {tg[1]}, {tg[1]/sum(tg.values):.2%}')\n",
    "print(f'{tg.index[2]}, {tg[2]}, {tg[2]/sum(tg.values):.2%}')\n",
    "print(f'{tg.index[3]}, {tg[3]}, {tg[3]/sum(tg.values):.2%}')\n",
    "print(f'Всего: {sum(tg.values)}')"
   ]
  },
  {
   "cell_type": "markdown",
   "metadata": {},
   "source": [
    "##### Из приведенных выше значений можем заметить: относительные распределения достаточно похожи, но в тестовой группе транзакций больше приходились на покупки монеток, уменьшилось кол-во премиум подписок, чуть больше стало пробных подписок с возможностью непродления\n"
   ]
  },
  {
   "cell_type": "code",
   "execution_count": 410,
   "metadata": {},
   "outputs": [
    {
     "data": {
      "text/html": [
       "<div>\n",
       "<style scoped>\n",
       "    .dataframe tbody tr th:only-of-type {\n",
       "        vertical-align: middle;\n",
       "    }\n",
       "\n",
       "    .dataframe tbody tr th {\n",
       "        vertical-align: top;\n",
       "    }\n",
       "\n",
       "    .dataframe thead th {\n",
       "        text-align: right;\n",
       "    }\n",
       "</style>\n",
       "<table border=\"1\" class=\"dataframe\">\n",
       "  <thead>\n",
       "    <tr style=\"text-align: right;\">\n",
       "      <th>product_type</th>\n",
       "      <th>coins</th>\n",
       "      <th>other</th>\n",
       "      <th>prem</th>\n",
       "      <th>trial</th>\n",
       "    </tr>\n",
       "  </thead>\n",
       "  <tbody>\n",
       "    <tr>\n",
       "      <th>age</th>\n",
       "      <td>29.018182</td>\n",
       "      <td>29.702703</td>\n",
       "      <td>30.086538</td>\n",
       "      <td>32.910448</td>\n",
       "    </tr>\n",
       "    <tr>\n",
       "      <th>attraction_distribution</th>\n",
       "      <td>320.009091</td>\n",
       "      <td>220.756757</td>\n",
       "      <td>374.000000</td>\n",
       "      <td>296.059701</td>\n",
       "    </tr>\n",
       "    <tr>\n",
       "      <th>coins</th>\n",
       "      <td>16.518182</td>\n",
       "      <td>11.594595</td>\n",
       "      <td>7.423077</td>\n",
       "      <td>0.388060</td>\n",
       "    </tr>\n",
       "    <tr>\n",
       "      <th>sex</th>\n",
       "      <td>1.000000</td>\n",
       "      <td>1.000000</td>\n",
       "      <td>1.000000</td>\n",
       "      <td>0.940299</td>\n",
       "    </tr>\n",
       "    <tr>\n",
       "      <th>user_dating.age_start</th>\n",
       "      <td>23.609091</td>\n",
       "      <td>21.459459</td>\n",
       "      <td>23.240385</td>\n",
       "      <td>26.641791</td>\n",
       "    </tr>\n",
       "    <tr>\n",
       "      <th>user_dating.age_end</th>\n",
       "      <td>36.109091</td>\n",
       "      <td>53.216216</td>\n",
       "      <td>38.471154</td>\n",
       "      <td>37.955224</td>\n",
       "    </tr>\n",
       "    <tr>\n",
       "      <th>view_count</th>\n",
       "      <td>149.090909</td>\n",
       "      <td>254.297297</td>\n",
       "      <td>112.471154</td>\n",
       "      <td>77.761194</td>\n",
       "    </tr>\n",
       "    <tr>\n",
       "      <th>was_special</th>\n",
       "      <td>1.000000</td>\n",
       "      <td>1.000000</td>\n",
       "      <td>1.000000</td>\n",
       "      <td>1.000000</td>\n",
       "    </tr>\n",
       "    <tr>\n",
       "      <th>is_special</th>\n",
       "      <td>0.854545</td>\n",
       "      <td>0.594595</td>\n",
       "      <td>0.875000</td>\n",
       "      <td>0.985075</td>\n",
       "    </tr>\n",
       "    <tr>\n",
       "      <th>total_revenue</th>\n",
       "      <td>19594.309091</td>\n",
       "      <td>15958.027027</td>\n",
       "      <td>11601.875000</td>\n",
       "      <td>12149.179104</td>\n",
       "    </tr>\n",
       "    <tr>\n",
       "      <th>revenue</th>\n",
       "      <td>3408.127273</td>\n",
       "      <td>3613.648649</td>\n",
       "      <td>6816.250000</td>\n",
       "      <td>11533.134328</td>\n",
       "    </tr>\n",
       "    <tr>\n",
       "      <th>payment_service_id</th>\n",
       "      <td>49.018182</td>\n",
       "      <td>69.972973</td>\n",
       "      <td>132.019231</td>\n",
       "      <td>147.000000</td>\n",
       "    </tr>\n",
       "  </tbody>\n",
       "</table>\n",
       "</div>"
      ],
      "text/plain": [
       "product_type                    coins         other          prem  \\\n",
       "age                         29.018182     29.702703     30.086538   \n",
       "attraction_distribution    320.009091    220.756757    374.000000   \n",
       "coins                       16.518182     11.594595      7.423077   \n",
       "sex                          1.000000      1.000000      1.000000   \n",
       "user_dating.age_start       23.609091     21.459459     23.240385   \n",
       "user_dating.age_end         36.109091     53.216216     38.471154   \n",
       "view_count                 149.090909    254.297297    112.471154   \n",
       "was_special                  1.000000      1.000000      1.000000   \n",
       "is_special                   0.854545      0.594595      0.875000   \n",
       "total_revenue            19594.309091  15958.027027  11601.875000   \n",
       "revenue                   3408.127273   3613.648649   6816.250000   \n",
       "payment_service_id          49.018182     69.972973    132.019231   \n",
       "\n",
       "product_type                    trial  \n",
       "age                         32.910448  \n",
       "attraction_distribution    296.059701  \n",
       "coins                        0.388060  \n",
       "sex                          0.940299  \n",
       "user_dating.age_start       26.641791  \n",
       "user_dating.age_end         37.955224  \n",
       "view_count                  77.761194  \n",
       "was_special                  1.000000  \n",
       "is_special                   0.985075  \n",
       "total_revenue            12149.179104  \n",
       "revenue                  11533.134328  \n",
       "payment_service_id         147.000000  "
      ]
     },
     "execution_count": 410,
     "metadata": {},
     "output_type": "execute_result"
    }
   ],
   "source": [
    "# Таблица средних показателей в зависимости от типа подписки для контрольной группы №1\n",
    "merge_CG1.groupby('product_type').mean().T"
   ]
  },
  {
   "cell_type": "code",
   "execution_count": 411,
   "metadata": {},
   "outputs": [
    {
     "data": {
      "text/html": [
       "<div>\n",
       "<style scoped>\n",
       "    .dataframe tbody tr th:only-of-type {\n",
       "        vertical-align: middle;\n",
       "    }\n",
       "\n",
       "    .dataframe tbody tr th {\n",
       "        vertical-align: top;\n",
       "    }\n",
       "\n",
       "    .dataframe thead th {\n",
       "        text-align: right;\n",
       "    }\n",
       "</style>\n",
       "<table border=\"1\" class=\"dataframe\">\n",
       "  <thead>\n",
       "    <tr style=\"text-align: right;\">\n",
       "      <th>product_type</th>\n",
       "      <th>coins</th>\n",
       "      <th>other</th>\n",
       "      <th>prem</th>\n",
       "      <th>trial</th>\n",
       "    </tr>\n",
       "  </thead>\n",
       "  <tbody>\n",
       "    <tr>\n",
       "      <th>age</th>\n",
       "      <td>33.300885</td>\n",
       "      <td>33.270270</td>\n",
       "      <td>29.971698</td>\n",
       "      <td>34.509434</td>\n",
       "    </tr>\n",
       "    <tr>\n",
       "      <th>attraction_distribution</th>\n",
       "      <td>317.141593</td>\n",
       "      <td>239.054054</td>\n",
       "      <td>382.858491</td>\n",
       "      <td>371.660377</td>\n",
       "    </tr>\n",
       "    <tr>\n",
       "      <th>coins</th>\n",
       "      <td>14.920354</td>\n",
       "      <td>14.675676</td>\n",
       "      <td>6.566038</td>\n",
       "      <td>2.754717</td>\n",
       "    </tr>\n",
       "    <tr>\n",
       "      <th>sex</th>\n",
       "      <td>1.000000</td>\n",
       "      <td>1.000000</td>\n",
       "      <td>0.952830</td>\n",
       "      <td>0.981132</td>\n",
       "    </tr>\n",
       "    <tr>\n",
       "      <th>user_dating.age_start</th>\n",
       "      <td>25.168142</td>\n",
       "      <td>24.756757</td>\n",
       "      <td>23.481132</td>\n",
       "      <td>29.113208</td>\n",
       "    </tr>\n",
       "    <tr>\n",
       "      <th>user_dating.age_end</th>\n",
       "      <td>40.168142</td>\n",
       "      <td>38.243243</td>\n",
       "      <td>37.764151</td>\n",
       "      <td>41.056604</td>\n",
       "    </tr>\n",
       "    <tr>\n",
       "      <th>view_count</th>\n",
       "      <td>273.044248</td>\n",
       "      <td>594.648649</td>\n",
       "      <td>298.933962</td>\n",
       "      <td>69.509434</td>\n",
       "    </tr>\n",
       "    <tr>\n",
       "      <th>was_special</th>\n",
       "      <td>1.000000</td>\n",
       "      <td>1.000000</td>\n",
       "      <td>1.000000</td>\n",
       "      <td>1.000000</td>\n",
       "    </tr>\n",
       "    <tr>\n",
       "      <th>is_special</th>\n",
       "      <td>0.778761</td>\n",
       "      <td>0.810811</td>\n",
       "      <td>0.905660</td>\n",
       "      <td>0.981132</td>\n",
       "    </tr>\n",
       "    <tr>\n",
       "      <th>total_revenue</th>\n",
       "      <td>15548.000000</td>\n",
       "      <td>15652.000000</td>\n",
       "      <td>10559.679245</td>\n",
       "      <td>13701.754717</td>\n",
       "    </tr>\n",
       "    <tr>\n",
       "      <th>revenue</th>\n",
       "      <td>3336.398230</td>\n",
       "      <td>3031.810811</td>\n",
       "      <td>6966.528302</td>\n",
       "      <td>12150.584906</td>\n",
       "    </tr>\n",
       "    <tr>\n",
       "      <th>payment_service_id</th>\n",
       "      <td>48.221239</td>\n",
       "      <td>65.702703</td>\n",
       "      <td>135.179245</td>\n",
       "      <td>147.000000</td>\n",
       "    </tr>\n",
       "  </tbody>\n",
       "</table>\n",
       "</div>"
      ],
      "text/plain": [
       "product_type                    coins         other          prem  \\\n",
       "age                         33.300885     33.270270     29.971698   \n",
       "attraction_distribution    317.141593    239.054054    382.858491   \n",
       "coins                       14.920354     14.675676      6.566038   \n",
       "sex                          1.000000      1.000000      0.952830   \n",
       "user_dating.age_start       25.168142     24.756757     23.481132   \n",
       "user_dating.age_end         40.168142     38.243243     37.764151   \n",
       "view_count                 273.044248    594.648649    298.933962   \n",
       "was_special                  1.000000      1.000000      1.000000   \n",
       "is_special                   0.778761      0.810811      0.905660   \n",
       "total_revenue            15548.000000  15652.000000  10559.679245   \n",
       "revenue                   3336.398230   3031.810811   6966.528302   \n",
       "payment_service_id          48.221239     65.702703    135.179245   \n",
       "\n",
       "product_type                    trial  \n",
       "age                         34.509434  \n",
       "attraction_distribution    371.660377  \n",
       "coins                        2.754717  \n",
       "sex                          0.981132  \n",
       "user_dating.age_start       29.113208  \n",
       "user_dating.age_end         41.056604  \n",
       "view_count                  69.509434  \n",
       "was_special                  1.000000  \n",
       "is_special                   0.981132  \n",
       "total_revenue            13701.754717  \n",
       "revenue                  12150.584906  \n",
       "payment_service_id         147.000000  "
      ]
     },
     "execution_count": 411,
     "metadata": {},
     "output_type": "execute_result"
    }
   ],
   "source": [
    "# Таблица средних показателей в зависимости от типа подписки для контрольной группы №2\n",
    "merge_CG2.groupby('product_type').mean().T"
   ]
  },
  {
   "cell_type": "code",
   "execution_count": 412,
   "metadata": {},
   "outputs": [
    {
     "data": {
      "text/html": [
       "<div>\n",
       "<style scoped>\n",
       "    .dataframe tbody tr th:only-of-type {\n",
       "        vertical-align: middle;\n",
       "    }\n",
       "\n",
       "    .dataframe tbody tr th {\n",
       "        vertical-align: top;\n",
       "    }\n",
       "\n",
       "    .dataframe thead th {\n",
       "        text-align: right;\n",
       "    }\n",
       "</style>\n",
       "<table border=\"1\" class=\"dataframe\">\n",
       "  <thead>\n",
       "    <tr style=\"text-align: right;\">\n",
       "      <th>product_type</th>\n",
       "      <th>coins</th>\n",
       "      <th>other</th>\n",
       "      <th>prem</th>\n",
       "      <th>trial</th>\n",
       "    </tr>\n",
       "  </thead>\n",
       "  <tbody>\n",
       "    <tr>\n",
       "      <th>age</th>\n",
       "      <td>31.521277</td>\n",
       "      <td>31.642857</td>\n",
       "      <td>31.410959</td>\n",
       "      <td>32.622951</td>\n",
       "    </tr>\n",
       "    <tr>\n",
       "      <th>attraction_distribution</th>\n",
       "      <td>346.936170</td>\n",
       "      <td>250.892857</td>\n",
       "      <td>352.342466</td>\n",
       "      <td>340.786885</td>\n",
       "    </tr>\n",
       "    <tr>\n",
       "      <th>coins</th>\n",
       "      <td>64.851064</td>\n",
       "      <td>113.714286</td>\n",
       "      <td>20.835616</td>\n",
       "      <td>8.295082</td>\n",
       "    </tr>\n",
       "    <tr>\n",
       "      <th>sex</th>\n",
       "      <td>1.000000</td>\n",
       "      <td>1.000000</td>\n",
       "      <td>1.000000</td>\n",
       "      <td>0.967213</td>\n",
       "    </tr>\n",
       "    <tr>\n",
       "      <th>user_dating.age_start</th>\n",
       "      <td>24.223404</td>\n",
       "      <td>27.964286</td>\n",
       "      <td>22.917808</td>\n",
       "      <td>26.377049</td>\n",
       "    </tr>\n",
       "    <tr>\n",
       "      <th>user_dating.age_end</th>\n",
       "      <td>34.893617</td>\n",
       "      <td>37.428571</td>\n",
       "      <td>37.712329</td>\n",
       "      <td>37.393443</td>\n",
       "    </tr>\n",
       "    <tr>\n",
       "      <th>view_count</th>\n",
       "      <td>233.734043</td>\n",
       "      <td>530.607143</td>\n",
       "      <td>135.465753</td>\n",
       "      <td>91.721311</td>\n",
       "    </tr>\n",
       "    <tr>\n",
       "      <th>was_special</th>\n",
       "      <td>1.000000</td>\n",
       "      <td>1.000000</td>\n",
       "      <td>1.000000</td>\n",
       "      <td>1.000000</td>\n",
       "    </tr>\n",
       "    <tr>\n",
       "      <th>is_special</th>\n",
       "      <td>0.851064</td>\n",
       "      <td>0.857143</td>\n",
       "      <td>0.904110</td>\n",
       "      <td>1.000000</td>\n",
       "    </tr>\n",
       "    <tr>\n",
       "      <th>total_revenue</th>\n",
       "      <td>29094.414894</td>\n",
       "      <td>46112.857143</td>\n",
       "      <td>17696.917808</td>\n",
       "      <td>15373.672131</td>\n",
       "    </tr>\n",
       "    <tr>\n",
       "      <th>revenue</th>\n",
       "      <td>5796.478723</td>\n",
       "      <td>5831.428571</td>\n",
       "      <td>10813.684932</td>\n",
       "      <td>12913.901639</td>\n",
       "    </tr>\n",
       "    <tr>\n",
       "      <th>payment_service_id</th>\n",
       "      <td>52.776596</td>\n",
       "      <td>63.642857</td>\n",
       "      <td>132.000000</td>\n",
       "      <td>147.000000</td>\n",
       "    </tr>\n",
       "  </tbody>\n",
       "</table>\n",
       "</div>"
      ],
      "text/plain": [
       "product_type                    coins         other          prem  \\\n",
       "age                         31.521277     31.642857     31.410959   \n",
       "attraction_distribution    346.936170    250.892857    352.342466   \n",
       "coins                       64.851064    113.714286     20.835616   \n",
       "sex                          1.000000      1.000000      1.000000   \n",
       "user_dating.age_start       24.223404     27.964286     22.917808   \n",
       "user_dating.age_end         34.893617     37.428571     37.712329   \n",
       "view_count                 233.734043    530.607143    135.465753   \n",
       "was_special                  1.000000      1.000000      1.000000   \n",
       "is_special                   0.851064      0.857143      0.904110   \n",
       "total_revenue            29094.414894  46112.857143  17696.917808   \n",
       "revenue                   5796.478723   5831.428571  10813.684932   \n",
       "payment_service_id          52.776596     63.642857    132.000000   \n",
       "\n",
       "product_type                    trial  \n",
       "age                         32.622951  \n",
       "attraction_distribution    340.786885  \n",
       "coins                        8.295082  \n",
       "sex                          0.967213  \n",
       "user_dating.age_start       26.377049  \n",
       "user_dating.age_end         37.393443  \n",
       "view_count                  91.721311  \n",
       "was_special                  1.000000  \n",
       "is_special                   1.000000  \n",
       "total_revenue            15373.672131  \n",
       "revenue                  12913.901639  \n",
       "payment_service_id         147.000000  "
      ]
     },
     "execution_count": 412,
     "metadata": {},
     "output_type": "execute_result"
    }
   ],
   "source": [
    "# Таблица средних показателей в зависимости от типа подписки для тестовой группы\n",
    "merge_TG.groupby('product_type').mean().T"
   ]
  },
  {
   "cell_type": "code",
   "execution_count": null,
   "metadata": {},
   "outputs": [],
   "source": [
    "tg_rev = merge_TG.groupby('product_type').mean().revenue\n",
    "c1_rev = merge_CG1.groupby('product_type').mean().revenue\n",
    "c2_rev = merge_CG2.groupby('product_type').mean().revenue\n",
    "\n",
    "tg_totrev = merge_TG.groupby('product_type').mean().total_revenue\n",
    "c1_totrev = merge_CG1.groupby('product_type').mean().total_revenue\n",
    "c2_totrev = merge_CG2.groupby('product_type').mean().total_revenue"
   ]
  },
  {
   "cell_type": "markdown",
   "metadata": {},
   "source": [
    "\n",
    "\n",
    "##### Из приведенных выше таблиц можем заметить: пробный премиум активируют в среднем более взрослые пользователи\n",
    "##### коэфицеент привлекательности в среднем не изменился: 374 для CG1, 382 для CG2, 352 для TG\n",
    "##### Однако, знасительно подскочил показатель привлекательности - revenue и total_revenue для тестовой группы\n",
    "##### Распределение данных показателе приведено на графиках ниже:\n",
    "\n"
   ]
  },
  {
   "cell_type": "code",
   "execution_count": 442,
   "metadata": {},
   "outputs": [
    {
     "data": {
      "image/png": "[encoded data removed]",
      "text/plain": [
       "<Figure size 720x504 with 1 Axes>"
      ]
     },
     "metadata": {
      "needs_background": "light"
     },
     "output_type": "display_data"
    }
   ],
   "source": [
    "\n",
    "plt.bar(tg_rev.index, tg_rev.values, label='тестовая группа')\n",
    "plt.bar(c1_rev.index, c1_rev.values, label='контрольная группа №1')\n",
    "plt.bar(c2_rev.index, c2_rev.values, label='контрольная группа №2')\n",
    "plt.xlabel('Тип продукта')\n",
    "plt.ylabel('Выручка пользователя')\n",
    "plt.title('Сравнение показателя revenue для контрольных и тестовой групп')\n",
    "plt.legend()\n",
    "plt.show()"
   ]
  },
  {
   "cell_type": "code",
   "execution_count": 444,
   "metadata": {},
   "outputs": [
    {
     "data": {
      "image/png": "[encoded data removed]",
      "text/plain": [
       "<Figure size 720x504 with 1 Axes>"
      ]
     },
     "metadata": {
      "needs_background": "light"
     },
     "output_type": "display_data"
    }
   ],
   "source": [
    "plt.bar(tg_totrev.index, tg_totrev.values, label='тестовая группа')\n",
    "plt.bar(c1_totrev.index, c1_totrev.values, label='контрольная группа №1')\n",
    "plt.bar(c2_totrev.index, c2_totrev.values, label='контрольная группа №2')\n",
    "plt.xlabel('Тип продукта')\n",
    "plt.ylabel('Суммарная выручка пользователя')\n",
    "plt.legend()\n",
    "plt.show()"
   ]
  },
  {
   "cell_type": "markdown",
   "metadata": {},
   "source": [
    "##### Из приведенного выше анализа А/А/Б - теста пользователей, можно сделать твердый вывод, о том, что, действительно,\n",
    "##### у пользователей, где стоимость премиум продписки была увеличена, их выручка была заметна выше"
   ]
  },
  {
   "cell_type": "code",
   "execution_count": null,
   "metadata": {},
   "outputs": [],
   "source": []
  }
 ],
 "metadata": {
  "kernelspec": {
   "display_name": "Python 3",
   "language": "python",
   "name": "python3"
  },
  "language_info": {
   "codemirror_mode": {
    "name": "ipython",
    "version": 3
   },
   "file_extension": ".py",
   "mimetype": "text/x-python",
   "name": "python",
   "nbconvert_exporter": "python",
   "pygments_lexer": "ipython3",
   "version": "3.7.6"
  }
 },
 "nbformat": 4,
 "nbformat_minor": 4
}
